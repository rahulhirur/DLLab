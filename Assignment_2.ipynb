{
  "nbformat": 4,
  "nbformat_minor": 0,
  "metadata": {
    "colab": {
      "provenance": [],
      "gpuType": "V28",
      "include_colab_link": true
    },
    "kernelspec": {
      "name": "python3",
      "display_name": "Python 3"
    },
    "language_info": {
      "name": "python"
    },
    "accelerator": "TPU"
  },
  "cells": [
    {
      "cell_type": "markdown",
      "metadata": {
        "id": "view-in-github",
        "colab_type": "text"
      },
      "source": [
        "<a href=\"https://colab.research.google.com/github/rahulhirur/DLLab/blob/main/Assignment_2.ipynb\" target=\"_parent\"><img src=\"https://colab.research.google.com/assets/colab-badge.svg\" alt=\"Open In Colab\"/></a>"
      ]
    },
    {
      "cell_type": "code",
      "execution_count": 87,
      "metadata": {
        "id": "D_sYOJxw7fZR"
      },
      "outputs": [],
      "source": []
    },
    {
      "cell_type": "code",
      "source": [
        "import torch\n",
        "import torch.nn as nn\n",
        "import torch.nn.functional as F\n",
        "import torchvision\n",
        "import torchvision.transforms as transforms\n",
        "import matplotlib.pyplot as plt\n",
        "import numpy as np\n",
        "import torch.optim as optim\n",
        "from math import floor\n",
        "import neptune\n",
        "import time\n",
        "from tqdm import tqdm"
      ],
      "metadata": {
        "id": "wRP4DlvO7oxX"
      },
      "execution_count": 88,
      "outputs": []
    },
    {
      "cell_type": "markdown",
      "source": [
        "**Task 1**"
      ],
      "metadata": {
        "id": "veKlOuhX7j5y"
      }
    },
    {
      "cell_type": "code",
      "source": [
        "seed = 42\n",
        "torch.manual_seed(seed)\n",
        "torch.cuda.manual_seed(seed)\n",
        "torch.backends.cudnn.deterministic = True\n",
        "torch.backends.cudnn.benchmark = False"
      ],
      "metadata": {
        "id": "iAlug4QY8LQN"
      },
      "execution_count": 2,
      "outputs": []
    },
    {
      "cell_type": "code",
      "source": [
        "print(torch.randint(1, 10, (1, 1)))"
      ],
      "metadata": {
        "colab": {
          "base_uri": "https://localhost:8080/"
        },
        "id": "3wuGEb5X8PIu",
        "outputId": "a3f7c630-b8df-4d54-efff-d0e109423bba"
      },
      "execution_count": 3,
      "outputs": [
        {
          "output_type": "stream",
          "name": "stdout",
          "text": [
            "tensor([[7]])\n"
          ]
        }
      ]
    },
    {
      "cell_type": "markdown",
      "source": [
        "**Task 2**"
      ],
      "metadata": {
        "id": "jBfd7EOD8VQ_"
      }
    },
    {
      "cell_type": "code",
      "source": [
        "# Load CIFAR-10 dataset\n",
        "train_set_raw = torchvision.datasets.CIFAR10(root='./data', train=True, download=True, transform=transforms.ToTensor())\n",
        "test_set_raw = torchvision.datasets.CIFAR10(root='./data', train=False, download=True, transform=transforms.ToTensor())\n",
        "validation_set_raw, test_set_raw = torch.utils.data.random_split(test_set_raw, [0.8, 0.2])\n"
      ],
      "metadata": {
        "colab": {
          "base_uri": "https://localhost:8080/"
        },
        "id": "V94Y2H0u8RrQ",
        "outputId": "89094f38-b7bc-4bd2-86ad-26bbd3923829"
      },
      "execution_count": 4,
      "outputs": [
        {
          "output_type": "stream",
          "name": "stdout",
          "text": [
            "Downloading https://www.cs.toronto.edu/~kriz/cifar-10-python.tar.gz to ./data/cifar-10-python.tar.gz\n"
          ]
        },
        {
          "output_type": "stream",
          "name": "stderr",
          "text": [
            "100%|██████████| 170M/170M [00:03<00:00, 46.7MB/s]\n"
          ]
        },
        {
          "output_type": "stream",
          "name": "stdout",
          "text": [
            "Extracting ./data/cifar-10-python.tar.gz to ./data\n",
            "Files already downloaded and verified\n"
          ]
        }
      ]
    },
    {
      "cell_type": "code",
      "source": [
        "# Define CIFAR-10 classes\n",
        "classes = train_set_raw.classes\n",
        "print(f\"The number of classes in the dataset - {len(classes)}\")\n",
        "\n",
        "print(f\"The number of images in the training dataset - {len(train_set_raw)}\")\n",
        "print(f\"The number of images in the test dataset - {len(test_set_raw)}\")\n",
        "print(f\"The number of images in the validation dataset - {len(validation_set_raw)}\")"
      ],
      "metadata": {
        "colab": {
          "base_uri": "https://localhost:8080/"
        },
        "id": "ptPCPbRwBfZS",
        "outputId": "db0f977a-bf52-4707-dd6b-4e96ad357334"
      },
      "execution_count": 5,
      "outputs": [
        {
          "output_type": "stream",
          "name": "stdout",
          "text": [
            "The number of classes in the dataset - 10\n",
            "The number of images in the training dataset - 50000\n",
            "The number of images in the test dataset - 2000\n",
            "The number of images in the validation dataset - 8000\n"
          ]
        }
      ]
    },
    {
      "source": [
        "def show_images_per_class(dataset, classes):\n",
        "    class_examples = {class_name: None for class_name in classes}\n",
        "\n",
        "    for image, label in dataset:\n",
        "        class_name = classes[label]\n",
        "        if class_examples[class_name] is None:\n",
        "            class_examples[class_name] = image\n",
        "        if all(v is not None for v in class_examples.values()):  # Break when all classes are filled\n",
        "            break\n",
        "\n",
        "    # Plot images\n",
        "    fig, axes = plt.subplots(2, 5, figsize=(12, 6))\n",
        "    fig.suptitle('One Image per Class')\n",
        "    for idx, (class_name, img) in enumerate(class_examples.items()):\n",
        "        ax = axes[idx // 5, idx % 5]\n",
        "        img = np.transpose(img, (1, 2, 0))\n",
        "\n",
        "        ax.imshow(img)\n",
        "        ax.set_title(class_name)\n",
        "        ax.axis('off')\n",
        "    plt.show()\n",
        "\n",
        "# Call the function with the transformed dataset\n",
        "show_images_per_class(validation_set_raw, classes)"
      ],
      "cell_type": "code",
      "metadata": {
        "colab": {
          "base_uri": "https://localhost:8080/",
          "height": 534
        },
        "id": "QkwgseToAxi8",
        "outputId": "a5a9a260-4e95-4592-d53a-9545efcdf15f"
      },
      "execution_count": 6,
      "outputs": [
        {
          "output_type": "display_data",
          "data": {
            "text/plain": [
              "<Figure size 1200x600 with 10 Axes>"
            ],
            "image/png": "[encoded data removed]"
          },
          "metadata": {}
        }
      ]
    },
    {
      "cell_type": "code",
      "source": [
        "def plot_combined_histogram(train_dataset, test_dataset, val_dataset, classes):\n",
        "    train_class_counts = {}\n",
        "    test_class_counts = {}\n",
        "    val_class_counts = {}\n",
        "\n",
        "    for label in range(len(classes)):\n",
        "      train_class_counts[label] = 0\n",
        "      test_class_counts[label] = 0\n",
        "      val_class_counts[label] = 0\n",
        "\n",
        "    for _, label in train_dataset:\n",
        "      train_class_counts[label] = train_class_counts[label] + 1\n",
        "\n",
        "    for _, label in test_dataset:\n",
        "        test_class_counts[label] = test_class_counts[label] + 1\n",
        "\n",
        "    for _, label in val_dataset:\n",
        "        val_class_counts[label] = val_class_counts[label] + 1\n",
        "\n",
        "    x = np.arange(len(classes))\n",
        "\n",
        "    width = 0.35\n",
        "\n",
        "    fig, ax = plt.subplots(figsize=(12, 6))\n",
        "\n",
        "    rects1 = ax.bar(x - width/2, [train_class_counts.get(i,0) for i in range(len(classes))], width, label='Train',color=\"blue\")\n",
        "    ax.axhline(y=5000, color='blue', linestyle='--',linewidth=1,alpha=0.5)\n",
        "\n",
        "    rects2 = ax.bar(x + width/2, [test_class_counts.get(i,0) for i in range(len(classes))], width, label='Test',color=\"red\")\n",
        "    ax.axhline(y=600, color='red', linestyle='--',linewidth=1,alpha=0.5)\n",
        "\n",
        "    rects3 = ax.bar(x, [val_class_counts.get(i,0) for i in range(len(classes))], width, label='Validation',color=\"green\")\n",
        "    ax.axhline(y=400, color='green', linestyle='--',linewidth=1,alpha=0.5)\n",
        "\n",
        "    ax.set_ylabel('Number of Images')\n",
        "    ax.set_title('Distribution of Images in Train and Test Sets')\n",
        "    ax.set_xticks(x)\n",
        "    ax.set_xticklabels(classes)\n",
        "    ax.legend()\n",
        "    plt.show()\n",
        "\n",
        "plot_combined_histogram(train_set_raw, test_set_raw, validation_set_raw, classes)"
      ],
      "metadata": {
        "colab": {
          "base_uri": "https://localhost:8080/",
          "height": 545
        },
        "id": "8uYV4kaHAA8U",
        "outputId": "ef5a1efa-d39e-4849-d743-3f9735995701"
      },
      "execution_count": 7,
      "outputs": [
        {
          "output_type": "display_data",
          "data": {
            "text/plain": [
              "<Figure size 1200x600 with 1 Axes>"
            ],
            "image/png": "[encoded data removed]"
          },
          "metadata": {}
        }
      ]
    },
    {
      "cell_type": "code",
      "source": [
        "def get_mean_std(dataset):\n",
        "  # get the mean and std of the whole dataset\n",
        "  images, _ = next(iter(dataset))\n",
        "  print(images.mean(),  images.std())\n",
        "  return images.mean().numpy(),  images.std().numpy()\n"
      ],
      "metadata": {
        "id": "11KoUwbeTMl4"
      },
      "execution_count": 8,
      "outputs": []
    },
    {
      "cell_type": "code",
      "source": [
        "meanVal, stdVal= get_mean_std(train_set_raw)\n"
      ],
      "metadata": {
        "colab": {
          "base_uri": "https://localhost:8080/"
        },
        "id": "riy1tLy0HsKA",
        "outputId": "a64f69af-163f-4d07-f557-8558dde712af"
      },
      "execution_count": 9,
      "outputs": [
        {
          "output_type": "stream",
          "name": "stdout",
          "text": [
            "tensor(0.4057) tensor(0.2039)\n"
          ]
        }
      ]
    },
    {
      "cell_type": "code",
      "source": [
        "transforms = transforms.Compose([\n",
        "    transforms.ToTensor(),\n",
        "    transforms.Normalize(mean=meanVal, std=stdVal)\n",
        "    ])\n",
        "\n",
        "# Create a function to apply transformations on-demand\n",
        "def apply_transform(dataset, transform):\n",
        "    dataset.transform = transform\n",
        "    return dataset\n",
        "\n",
        "# Apply transformations to the dataset needed\n",
        "# train_set_transformed = apply_transform(train_set_raw, transform)\n",
        "# test_set_transformed = apply_transform(test_set_raw, transform)\n",
        "# validation_set_transformed = apply_transform(validation_set_raw, transform)\n",
        "\n",
        "train_set_transformed = torchvision.datasets.CIFAR10(root='./data', train=True, download=True, transform=transforms)\n",
        "test_set_transformed = torchvision.datasets.CIFAR10(root='./data', train=False, download=True, transform=transforms)\n",
        "\n",
        "validation_set_transformed, test_set_transformed = torch.utils.data.random_split(test_set_transformed, [0.8, 0.2])"
      ],
      "metadata": {
        "id": "ItQ_HgL_98Yu",
        "colab": {
          "base_uri": "https://localhost:8080/"
        },
        "outputId": "a0f927f4-5ed2-44ce-c0dd-12f5a2d0a642"
      },
      "execution_count": 77,
      "outputs": [
        {
          "output_type": "stream",
          "name": "stdout",
          "text": [
            "Files already downloaded and verified\n",
            "Files already downloaded and verified\n"
          ]
        }
      ]
    },
    {
      "cell_type": "code",
      "source": [
        "get_mean_std(train_set_transformed)"
      ],
      "metadata": {
        "id": "mttnLdHF-AWp",
        "colab": {
          "base_uri": "https://localhost:8080/"
        },
        "outputId": "1742ba1d-69db-44ec-a187-6d0ce0a34c8d"
      },
      "execution_count": 78,
      "outputs": [
        {
          "output_type": "stream",
          "name": "stdout",
          "text": [
            "tensor(4.3462e-09) tensor(1.)\n"
          ]
        },
        {
          "output_type": "execute_result",
          "data": {
            "text/plain": [
              "(array(4.346172e-09, dtype=float32), array(1., dtype=float32))"
            ]
          },
          "metadata": {},
          "execution_count": 78
        }
      ]
    },
    {
      "cell_type": "code",
      "source": [
        "# Create loaders\n",
        "train_loader = torch.utils.data.DataLoader(train_set_transformed, batch_size=32, shuffle=True, num_workers=2)\n",
        "test_loader = torch.utils.data.DataLoader(test_set_transformed, batch_size=len(test_set_transformed), shuffle=True, num_workers=2)\n",
        "validation_loader = torch.utils.data.DataLoader(validation_set_transformed, batch_size=len(validation_set_transformed), shuffle=True, num_workers=2)"
      ],
      "metadata": {
        "id": "ZEP0YYko_YEJ"
      },
      "execution_count": 79,
      "outputs": []
    },
    {
      "cell_type": "markdown",
      "source": [
        "Task3"
      ],
      "metadata": {
        "id": "-2pqk27rXbSK"
      }
    },
    {
      "cell_type": "code",
      "source": [
        "# prompt:  Assume you have downloaded the dataset using the variable\n",
        "# dataset train. Are the entries in the correct type for the DL framework in PyTorch? How can you arrive at a suitable format for your training pipeline? Answer this question by also providing clarification about\n",
        "# (i) The type of each element of the dataset\n",
        "# (ii) How we can convert it to a suitable type. Hint: have a look at the\n",
        "# slides\n",
        "# (iii) The dimension of the image as a torch.Tensor object\n",
        "# (iv) The meaning of each dimension of the images\n",
        "\n",
        "# (i) Type of each element\n",
        "# The dataset consists of PIL images and integer labels.  PIL images are not directly usable\n",
        "# as tensors in PyTorch.  The labels are integers representing the class of the image.\n",
        "\n",
        "# (ii) Conversion to a suitable type\n",
        "# The provided code already converts the dataset to the correct format using torchvision.transforms.Compose:\n",
        "\n",
        "# transforms.ToTensor(): Converts a PIL Image or numpy.ndarray to a float tensor\n",
        "# The pixel values are converted from [0, 255] to [0.0, 1.0].\n",
        "# transforms.Normalize(): Normalizes the tensor image with mean and standard deviation.\n",
        "# This is crucial for good performance in many neural networks.\n",
        "\n",
        "# The apply_transform function applies these transformations.  The key is the use of transforms.ToTensor().\n",
        "\n",
        "# (iii) Dimension of the image as a torch.Tensor\n",
        "# After applying the transformation, each image in the dataset will be a torch.Tensor with dimensions (3, 32, 32).\n",
        "\n",
        "# (iv) Meaning of each dimension\n",
        "# - Dimension 0 (3): Represents the color channels (Red, Green, Blue).\n",
        "# - Dimension 1 (32): Represents the height of the image in pixels.\n",
        "# - Dimension 2 (32): Represents the width of the image in pixels.\n",
        "\n",
        "\n",
        "# Example to demonstrate the dimensions\n",
        "\n",
        "dataiter = iter(train_loader)\n",
        "images, labels = next(dataiter)\n",
        "\n",
        "print(f\"Image shape: {images.shape}\") # Output: torch.Size([4, 3, 32, 32])  (batch_size, channels, height, width)\n",
        "print(f\"Image shape in the batch: {images[0].shape}\") # Output: torch.Size([3, 32, 32])\n",
        "print(f\"Label shape: {labels.shape}\") # Output: torch.Size([4])\n",
        "print(type(images))"
      ],
      "metadata": {
        "id": "R6GyBudjNGhy",
        "colab": {
          "base_uri": "https://localhost:8080/"
        },
        "outputId": "df2a4f34-d832-4fe4-a499-be6027cbb893"
      },
      "execution_count": 80,
      "outputs": [
        {
          "output_type": "stream",
          "name": "stdout",
          "text": [
            "Image shape: torch.Size([32, 3, 32, 32])\n",
            "Image shape in the batch: torch.Size([3, 32, 32])\n",
            "Label shape: torch.Size([32])\n",
            "<class 'torch.Tensor'>\n"
          ]
        }
      ]
    },
    {
      "cell_type": "markdown",
      "source": [
        "**Model**"
      ],
      "metadata": {
        "id": "jP00PLPtexsK"
      }
    },
    {
      "cell_type": "code",
      "source": [
        "def out_dimensions(conv_layer, h_in, w_in):\n",
        "    '''\n",
        "    This function computes the output dimension of each convolutional layers in the most general way.\n",
        "    '''\n",
        "    h_out = floor((h_in + 2 * conv_layer.padding[0] - conv_layer.dilation[0] * (conv_layer.kernel_size[0] - 1) - 1) /\n",
        "                  conv_layer.stride[0] + 1)\n",
        "    w_out = floor((w_in + 2 * conv_layer.padding[1] - conv_layer.dilation[1] * (conv_layer.kernel_size[1] - 1) - 1) /\n",
        "                  conv_layer.stride[1] + 1)\n",
        "\n",
        "    return h_out, w_out\n",
        "\n",
        "# You can start by modifyng what we have done in class, or define your model from scratch\n",
        "\n",
        "class CNN1(nn.Module):\n",
        "    def __init__(self):\n",
        "        super(CNN1, self).__init__()\n",
        "\n",
        "        self.conv1 = nn.Conv2d(in_channels=3, out_channels=16, kernel_size=(3, 3), padding = 1, stride=1)\n",
        "\n",
        "        self.conv2 = nn.Conv2d(in_channels=16, out_channels=32, kernel_size=(3, 3), padding = 1, stride=1)\n",
        "\n",
        "        self.pool1 = nn.MaxPool2d(2, 2)\n",
        "\n",
        "        self.conv3 = nn.Conv2d(in_channels=32, out_channels=64, kernel_size=(3, 3), padding = 1, stride=1)\n",
        "\n",
        "        self.conv4 = nn.Conv2d(in_channels=64, out_channels=128, kernel_size=(3, 3), padding = 1, stride=1)\n",
        "\n",
        "        self.pool2 = nn.MaxPool2d(2, 2)\n",
        "\n",
        "        self.flatten = nn.Flatten()\n",
        "\n",
        "        self.fc1 = nn.Linear(128 * 8 * 8, 128)\n",
        "\n",
        "        self.fc2 = nn.Linear(128, 64)\n",
        "\n",
        "        self.fc3 = nn.Linear(64, 10)\n",
        "\n",
        "\n",
        "    def forward(self, x):\n",
        "        #print('1')\n",
        "        #print(x.shape)\n",
        "        x = self.conv1(x)\n",
        "        #print('1')\n",
        "        #print(x.shape)\n",
        "        x = self.conv2(x)\n",
        "        #print('1')\n",
        "        #print(x.shape)\n",
        "        x = F.relu(x)\n",
        "        x = self.pool1(x)\n",
        "        #print('1')\n",
        "        #print(x.shape)\n",
        "        x = self.conv3(x)\n",
        "        #print('1')\n",
        "        #print(x.shape)\n",
        "        x = self.conv4(x)\n",
        "        #print('1')\n",
        "        #print(x.shape)\n",
        "        x = F.relu(x)\n",
        "        #print('1')\n",
        "        #print(x.shape)\n",
        "        x = self.pool1(x)\n",
        "        #print('1')\n",
        "        #print(x.shape)\n",
        "        x = self.flatten(x)\n",
        "        #print('1')\n",
        "        x = F.relu(self.fc1(x))\n",
        "        x = F.relu(self.fc2(x))\n",
        "        x = self.fc3(x)\n",
        "\n",
        "        return x\n",
        "\n",
        "\n"
      ],
      "metadata": {
        "id": "BN1qhOwQXduq"
      },
      "execution_count": 89,
      "outputs": []
    },
    {
      "cell_type": "code",
      "source": [
        "class CNN2(nn.Module):\n",
        "    def __init__(self):\n",
        "        super(CNN2, self).__init__()\n",
        "\n",
        "        self.conv1 = nn.Conv2d(in_channels=3, out_channels=32, kernel_size=(3, 3), padding = 1, stride=1)\n",
        "        h_out, w_out = out_dimensions(self.conv1, 32, 32)\n",
        "\n",
        "        self.conv2 = nn.Conv2d(in_channels=32, out_channels=32, kernel_size=(3, 3), padding = 1, stride=1)\n",
        "        h_out, w_out = out_dimensions(self.conv2, h_out, w_out)\n",
        "\n",
        "        self.pool1 = nn.MaxPool2d(2, 2)\n",
        "        h_out, w_out = int(h_out/2), int(w_out/2)\n",
        "\n",
        "        self.conv3 = nn.Conv2d(in_channels=32, out_channels=64, kernel_size=(3, 3), padding = 1, stride=1)\n",
        "        h_out, w_out = out_dimensions(self.conv3, h_out, w_out)\n",
        "\n",
        "        self.conv4 = nn.Conv2d(in_channels=64, out_channels=128, kernel_size=(3, 3), padding = 1, stride=1)\n",
        "        h_out, w_out = out_dimensions(self.conv4, h_out, w_out)\n",
        "\n",
        "\n",
        "        self.pool2 = nn.MaxPool2d(2, 2)\n",
        "        h_out, w_out = int(h_out/2), int(w_out/2)\n",
        "\n",
        "        self.flatten = nn.Flatten()\n",
        "\n",
        "        self.fc1 = nn.Linear(128 * h_out * w_out, 64)\n",
        "        self.fc2 = nn.Linear(64, 10)\n",
        "\n",
        "\n",
        "        self.dropout = nn.Dropout(0.3)\n",
        "\n",
        "\n",
        "    def forward(self, x):\n",
        "\n",
        "        x = self.conv1(x)\n",
        "        x = F.relu(x)\n",
        "\n",
        "        x = self.conv2(x)\n",
        "        x = F.relu(x)\n",
        "\n",
        "        x = self.pool1(x)\n",
        "\n",
        "        x = self.conv3(x)\n",
        "        x = F.relu(x)\n",
        "\n",
        "        x = self.conv4(x)\n",
        "        x = F.relu(x)\n",
        "\n",
        "        x = self.pool1(x)\n",
        "\n",
        "        x = self.flatten(x)\n",
        "\n",
        "        x = F.relu(self.fc1(x))\n",
        "        x = F.relu(self.fc2(x))\n",
        "        x = self.fc3(x)\n",
        "\n",
        "        return x"
      ],
      "metadata": {
        "id": "ZaIJgvnHBcKD"
      },
      "execution_count": 90,
      "outputs": []
    },
    {
      "cell_type": "code",
      "source": [
        "import torch.optim as optim\n",
        "\n",
        "model = CNN1()\n",
        "\n",
        "learning_rate = 0.01\n",
        "optimizer = optim.SGD(model.parameters(), lr=learning_rate)\n",
        "#optimizer = optim.Adam(model.parameters(), lr=learning_rate)\n",
        "loss_fn = nn.CrossEntropyLoss()\n",
        "\n",
        "\n",
        "n_epochs = 4\n",
        "train_loss_list = []\n",
        "validation_loss_list = []\n",
        "for epoch in range(n_epochs):\n",
        "    loss_train = 0\n",
        "    epoch_start_time = time.time()\n",
        "    for data, target in tqdm(train_loader, desc=f\"Epoch {epoch+1}/{n_epochs} Training\", unit=\"batch\"):\n",
        "        # Set the model in training mode\n",
        "        model.train()\n",
        "        # Set the gradient to 0\n",
        "        optimizer.zero_grad()\n",
        "        # Make a prediction\n",
        "        output = model(data)\n",
        "        # Compute the loss function\n",
        "        loss = loss_fn(output, target)\n",
        "        loss_train += loss.item()\n",
        "        # Backpropagation\n",
        "        loss.backward()\n",
        "        # Update parameters\n",
        "        optimizer.step()\n",
        "    loss_train = loss_train / len(train_loader) # Consider this alternative method of tracking training loss.\n",
        "    train_loss_list.append(loss_train)\n",
        "\n",
        "    # At the end of every epoch, check the validation loss value\n",
        "    with torch.no_grad():\n",
        "        model.eval()\n",
        "        epoch_end_time = time.time()  # End time for the current epoch\n",
        "        epoch_time = epoch_end_time - epoch_start_time\n",
        "        for data, target in validation_loader:\n",
        "            # Make a prediction\n",
        "            output = model(data)\n",
        "            # Compute the loss function\n",
        "            validation_loss = loss_fn(output, target).item()\n",
        "            print(f\"Epoch {epoch + 1}: Train loss: {loss_train}, Validation loss {validation_loss}, Time: {epoch_time:.4f} seconds\")\n",
        "            validation_loss_list.append(validation_loss)\n",
        "\n",
        "\n",
        "print('Training Done')"
      ],
      "metadata": {
        "colab": {
          "base_uri": "https://localhost:8080/"
        },
        "id": "alsMv4u3ZZvT",
        "outputId": "0ad644a5-c755-4ce6-ed34-2c1909bc79b1"
      },
      "execution_count": null,
      "outputs": [
        {
          "output_type": "stream",
          "name": "stderr",
          "text": [
            "Epoch 1/4 Training:  54%|█████▍    | 843/1563 [01:46<02:12,  5.43batch/s]"
          ]
        }
      ]
    },
    {
      "cell_type": "code",
      "source": [],
      "metadata": {
        "id": "SL9yAKWHkrQ4"
      },
      "execution_count": 83,
      "outputs": []
    },
    {
      "cell_type": "code",
      "source": [
        "plt.figure()\n",
        "plt.plot(range(n_epochs), train_loss_list)\n",
        "plt.plot(range(n_epochs), validation_loss_list)\n",
        "plt.legend([\"Train loss\", \"Validation Loss\"])\n",
        "plt.xlabel(\"Epochs\")\n",
        "plt.ylabel(\"Loss value\")\n",
        "plt.show()"
      ],
      "metadata": {
        "colab": {
          "base_uri": "https://localhost:8080/",
          "height": 449
        },
        "id": "WGufCRWBh398",
        "outputId": "036a4cca-06ba-43d0-93f1-d79124d0671b"
      },
      "execution_count": 84,
      "outputs": [
        {
          "output_type": "display_data",
          "data": {
            "text/plain": [
              "<Figure size 640x480 with 1 Axes>"
            ],
            "image/png": "[encoded data removed]"
          },
          "metadata": {}
        }
      ]
    },
    {
      "cell_type": "code",
      "source": [
        "with torch.no_grad():\n",
        "    n_correct = 0\n",
        "    n_samples = 0\n",
        "    for data, target in test_loader:\n",
        "        model.eval()\n",
        "        outputs = model(data)\n",
        "        _, predicted = torch.max(outputs.data, 1)\n",
        "        n_samples += target.size(0)\n",
        "        n_correct += (predicted == target).sum().item()\n",
        "\n",
        "    acc = 100.0 * n_correct / n_samples\n",
        "print(\"Accuracy on the test set:\", acc, \"%\")"
      ],
      "metadata": {
        "colab": {
          "base_uri": "https://localhost:8080/"
        },
        "id": "5dBvpe3QjEyU",
        "outputId": "dddadd90-5e18-4d49-c22f-6572bd30706d"
      },
      "execution_count": 85,
      "outputs": [
        {
          "output_type": "stream",
          "name": "stdout",
          "text": [
            "Accuracy on the test set: 72.55 %\n"
          ]
        }
      ]
    },
    {
      "cell_type": "code",
      "source": [
        "# prompt: use neptune to track\n",
        "\n",
        "!pip install neptune-client\n",
        "\n",
        "import neptune.new as neptune\n",
        "\n",
        "# Initialize Neptune\n",
        "run = neptune.init_run(\n",
        "    project=\"your-neptune-project\",  # Replace with your Neptune project\n",
        "    api_token=\"your-neptune-api-token\"  # Replace with your Neptune API token\n",
        ")\n",
        "\n",
        "# ... your existing code ...\n",
        "\n",
        "# Log hyperparameters\n",
        "run[\"parameters/learning_rate\"] = learning_rate\n",
        "run[\"parameters/n_epochs\"] = n_epochs\n",
        "\n",
        "# Log metrics during training\n",
        "for epoch in range(n_epochs):\n",
        "    # ... your existing training loop ...\n",
        "\n",
        "    run[\"train/loss\"].log(loss_train)\n",
        "    run[\"validation/loss\"].log(validation_loss)\n",
        "    run[\"epoch/time\"].log(epoch_time)\n",
        "\n",
        "\n",
        "# Log the final accuracy\n",
        "run[\"metrics/test_accuracy\"] = acc\n",
        "\n",
        "# Stop the Neptune run\n",
        "run.stop()"
      ],
      "metadata": {
        "id": "i6n62iaDiThi"
      },
      "execution_count": 23,
      "outputs": []
    },
    {
      "cell_type": "code",
      "source": [
        "# prompt: Make my CNN code a little more big. This is for CIFAR 10 dataset\n",
        "\n",
        "import torch\n",
        "import torch.nn as nn\n",
        "import torch.nn.functional as F\n",
        "import torchvision\n",
        "import torchvision.transforms as transforms\n",
        "import matplotlib.pyplot as plt\n",
        "import numpy as np\n",
        "import torch.optim as optim\n",
        "from math import floor\n",
        "import time\n",
        "from tqdm import tqdm\n",
        "\n",
        "# ... (rest of the code from the previous response)\n",
        "\n",
        "class CNN(nn.Module):\n",
        "    def __init__(self):\n",
        "        super(CNN, self).__init__()\n",
        "\n",
        "        self.conv1 = nn.Conv2d(in_channels=3, out_channels=64, kernel_size=(3, 3), padding=1)\n",
        "        self.bn1 = nn.BatchNorm2d(64)  # Batch normalization\n",
        "        self.conv2 = nn.Conv2d(in_channels=64, out_channels=128, kernel_size=(3, 3), padding=1)\n",
        "        self.bn2 = nn.BatchNorm2d(128)\n",
        "        self.pool1 = nn.MaxPool2d(2, 2)\n",
        "        self.conv3 = nn.Conv2d(in_channels=128, out_channels=256, kernel_size=(3, 3), padding=1)\n",
        "        self.bn3 = nn.BatchNorm2d(256)\n",
        "        self.conv4 = nn.Conv2d(in_channels=256, out_channels=256, kernel_size=(3, 3), padding=1)\n",
        "        self.bn4 = nn.BatchNorm2d(256)\n",
        "        self.pool2 = nn.MaxPool2d(2, 2)\n",
        "        self.fc1 = nn.Linear(256 * 8 * 8, 512) # Adjusted for two maxpooling layers\n",
        "        self.dropout = nn.Dropout(0.5) # Dropout for regularization\n",
        "        self.fc2 = nn.Linear(512, 10)\n",
        "\n",
        "    def forward(self, x):\n",
        "        x = F.relu(self.bn1(self.conv1(x)))\n",
        "        x = F.relu(self.bn2(self.conv2(x)))\n",
        "        x = self.pool1(x)\n",
        "        x = F.relu(self.bn3(self.conv3(x)))\n",
        "        x = F.relu(self.bn4(self.conv4(x)))\n",
        "        x = self.pool2(x)\n",
        "        x = x.view(-1, 256 * 8 * 8)  # Reshape for fully connected layer\n",
        "        x = F.relu(self.fc1(x))\n",
        "        x = self.dropout(x) # Apply dropout\n",
        "        x = self.fc2(x)\n",
        "        return x\n",
        "\n",
        "model = CNN()\n",
        "\n",
        "# ... (rest of the training code remains largely the same)\n",
        "\n",
        "# ... (rest of the code from the previous response)"
      ],
      "metadata": {
        "id": "K0HCZgmXoU6A"
      },
      "execution_count": null,
      "outputs": []
    },
    {
      "cell_type": "code",
      "source": [
        "import torch\n",
        "from torch.utils.data import TensorDataset, DataLoader\n",
        "\n",
        "# Create a simple linear dataset\n",
        "X = torch.linspace(1, 10, 10).reshape(-1, 1)\n",
        "y = 2 * X + 3\n",
        "\n",
        "# Define a transformation to add a constant value\n",
        "def add_constant(x):\n",
        "    return x + 5\n",
        "\n",
        "# Create a transformation pipeline\n",
        "transform = transforms.Compose([\n",
        "    transforms.Lambda(lambda x: add_constant(x))\n",
        "])\n",
        "\n",
        "def apply_transform(dataset, transform):\n",
        "    dataset.transform = transform\n",
        "    return dataset\n",
        "\n",
        "# Create a dataset\n",
        "dataset = TensorDataset(X, y)\n",
        "\n",
        "# Apply the transformation to the dataset\n",
        "dataset_new = apply_transform(dataset, transform)\n",
        "\n",
        "# Create a data loader\n",
        "data_loader = DataLoader(dataset, batch_size=32, shuffle=True)\n",
        "\n",
        "# Iterate over the data loader\n",
        "for X_batch, y_batch in data_loader:\n",
        "    print(X_batch)\n",
        "    # Now X_batch will have the constant added to each elem"
      ],
      "metadata": {
        "id": "ZLVdya_Gwlgx",
        "colab": {
          "base_uri": "https://localhost:8080/"
        },
        "outputId": "7615adec-817c-495b-ddbe-a988ead89485"
      },
      "execution_count": 70,
      "outputs": [
        {
          "output_type": "stream",
          "name": "stdout",
          "text": [
            "tensor([[10.],\n",
            "        [ 7.],\n",
            "        [ 8.],\n",
            "        [ 9.],\n",
            "        [ 5.],\n",
            "        [ 6.],\n",
            "        [ 1.],\n",
            "        [ 4.],\n",
            "        [ 3.],\n",
            "        [ 2.]])\n"
          ]
        }
      ]
    },
    {
      "cell_type": "code",
      "source": [
        "next(iter(dataset))"
      ],
      "metadata": {
        "colab": {
          "base_uri": "https://localhost:8080/"
        },
        "id": "ro7y3oU6PBeV",
        "outputId": "6a0fc27e-297b-47c7-ac8e-04e8332edb17"
      },
      "execution_count": 75,
      "outputs": [
        {
          "output_type": "execute_result",
          "data": {
            "text/plain": [
              "(tensor([1.]), tensor([5.]))"
            ]
          },
          "metadata": {},
          "execution_count": 75
        }
      ]
    },
    {
      "cell_type": "code",
      "source": [
        "next(iter(dataset_new))"
      ],
      "metadata": {
        "colab": {
          "base_uri": "https://localhost:8080/"
        },
        "id": "20bMsETIPKnt",
        "outputId": "1edf0f1e-bb44-41c1-871e-1ec7069dbf48"
      },
      "execution_count": 76,
      "outputs": [
        {
          "output_type": "execute_result",
          "data": {
            "text/plain": [
              "(tensor([1.]), tensor([5.]))"
            ]
          },
          "metadata": {},
          "execution_count": 76
        }
      ]
    },
    {
      "cell_type": "code",
      "source": [],
      "metadata": {
        "id": "XZGQ1xliP_Uo"
      },
      "execution_count": null,
      "outputs": []
    }
  ]
}