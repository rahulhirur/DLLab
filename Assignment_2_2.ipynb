{
  "nbformat": 4,
  "nbformat_minor": 0,
  "metadata": {
    "colab": {
      "provenance": [],
      "gpuType": "V28",
      "include_colab_link": true
    },
    "kernelspec": {
      "name": "python3",
      "display_name": "Python 3"
    },
    "language_info": {
      "name": "python"
    },
    "accelerator": "TPU"
  },
  "cells": [
    {
      "cell_type": "markdown",
      "metadata": {
        "id": "view-in-github",
        "colab_type": "text"
      },
      "source": [
        "<a href=\"https://colab.research.google.com/github/rahulhirur/DLLab/blob/main/Assignment_2_2.ipynb\" target=\"_parent\"><img src=\"https://colab.research.google.com/assets/colab-badge.svg\" alt=\"Open In Colab\"/></a>"
      ]
    },
    {
      "cell_type": "code",
      "execution_count": null,
      "metadata": {
        "id": "D_sYOJxw7fZR",
        "colab": {
          "base_uri": "https://localhost:8080/"
        },
        "outputId": "1cff43d3-25c7-4f80-838e-8c40e8f3db92"
      },
      "outputs": [
        {
          "output_type": "stream",
          "name": "stdout",
          "text": [
            "Collecting neptune\n",
            "  Downloading neptune-1.13.0-py3-none-any.whl.metadata (16 kB)\n",
            "Requirement already satisfied: GitPython>=2.0.8 in /usr/local/lib/python3.10/dist-packages (from neptune) (3.1.43)\n",
            "Requirement already satisfied: Pillow>=1.1.6 in /usr/local/lib/python3.10/dist-packages (from neptune) (10.4.0)\n",
            "Requirement already satisfied: PyJWT in /usr/local/lib/python3.10/dist-packages (from neptune) (2.9.0)\n",
            "Collecting boto3>=1.28.0 (from neptune)\n",
            "  Downloading boto3-1.35.52-py3-none-any.whl.metadata (6.7 kB)\n",
            "Collecting bravado<12.0.0,>=11.0.0 (from neptune)\n",
            "  Downloading bravado-11.0.3-py2.py3-none-any.whl.metadata (5.9 kB)\n",
            "Requirement already satisfied: click>=7.0 in /usr/local/lib/python3.10/dist-packages (from neptune) (8.1.7)\n",
            "Requirement already satisfied: future>=0.17.1 in /usr/local/lib/python3.10/dist-packages (from neptune) (1.0.0)\n",
            "Requirement already satisfied: oauthlib>=2.1.0 in /usr/local/lib/python3.10/dist-packages (from neptune) (3.2.2)\n",
            "Requirement already satisfied: packaging in /usr/local/lib/python3.10/dist-packages (from neptune) (24.1)\n",
            "Requirement already satisfied: pandas in /usr/local/lib/python3.10/dist-packages (from neptune) (2.2.2)\n",
            "Requirement already satisfied: psutil in /usr/local/lib/python3.10/dist-packages (from neptune) (5.9.5)\n",
            "Requirement already satisfied: requests>=2.20.0 in /usr/local/lib/python3.10/dist-packages (from neptune) (2.32.3)\n",
            "Requirement already satisfied: requests-oauthlib>=1.0.0 in /usr/local/lib/python3.10/dist-packages (from neptune) (1.3.1)\n",
            "Requirement already satisfied: six>=1.12.0 in /usr/local/lib/python3.10/dist-packages (from neptune) (1.16.0)\n",
            "Collecting swagger-spec-validator>=2.7.4 (from neptune)\n",
            "  Downloading swagger_spec_validator-3.0.4-py2.py3-none-any.whl.metadata (2.5 kB)\n",
            "Requirement already satisfied: typing-extensions>=3.10.0 in /usr/local/lib/python3.10/dist-packages (from neptune) (4.12.2)\n",
            "Requirement already satisfied: urllib3 in /usr/local/lib/python3.10/dist-packages (from neptune) (2.2.3)\n",
            "Requirement already satisfied: websocket-client!=1.0.0,>=0.35.0 in /usr/local/lib/python3.10/dist-packages (from neptune) (1.8.0)\n",
            "Collecting botocore<1.36.0,>=1.35.52 (from boto3>=1.28.0->neptune)\n",
            "  Downloading botocore-1.35.52-py3-none-any.whl.metadata (5.7 kB)\n",
            "Collecting jmespath<2.0.0,>=0.7.1 (from boto3>=1.28.0->neptune)\n",
            "  Downloading jmespath-1.0.1-py3-none-any.whl.metadata (7.6 kB)\n",
            "Collecting s3transfer<0.11.0,>=0.10.0 (from boto3>=1.28.0->neptune)\n",
            "  Downloading s3transfer-0.10.3-py3-none-any.whl.metadata (1.7 kB)\n",
            "Collecting bravado-core>=5.16.1 (from bravado<12.0.0,>=11.0.0->neptune)\n",
            "  Downloading bravado-core-6.1.1.tar.gz (63 kB)\n",
            "\u001b[2K     \u001b[90m━━━━━━━━━━━━━━━━━━━━━━━━━━━━━━━━━━━━━━━━\u001b[0m \u001b[32m63.9/63.9 kB\u001b[0m \u001b[31m2.4 MB/s\u001b[0m eta \u001b[36m0:00:00\u001b[0m\n",
            "\u001b[?25h  Preparing metadata (setup.py) ... \u001b[?25l\u001b[?25hdone\n",
            "Requirement already satisfied: msgpack in /usr/local/lib/python3.10/dist-packages (from bravado<12.0.0,>=11.0.0->neptune) (1.1.0)\n",
            "Requirement already satisfied: python-dateutil in /usr/local/lib/python3.10/dist-packages (from bravado<12.0.0,>=11.0.0->neptune) (2.8.2)\n",
            "Requirement already satisfied: pyyaml in /usr/local/lib/python3.10/dist-packages (from bravado<12.0.0,>=11.0.0->neptune) (6.0.2)\n",
            "Collecting simplejson (from bravado<12.0.0,>=11.0.0->neptune)\n",
            "  Downloading simplejson-3.19.3-cp310-cp310-manylinux_2_5_x86_64.manylinux1_x86_64.manylinux_2_17_x86_64.manylinux2014_x86_64.whl.metadata (3.2 kB)\n",
            "Collecting monotonic (from bravado<12.0.0,>=11.0.0->neptune)\n",
            "  Downloading monotonic-1.6-py2.py3-none-any.whl.metadata (1.5 kB)\n",
            "Requirement already satisfied: gitdb<5,>=4.0.1 in /usr/local/lib/python3.10/dist-packages (from GitPython>=2.0.8->neptune) (4.0.11)\n",
            "Requirement already satisfied: charset-normalizer<4,>=2 in /usr/local/lib/python3.10/dist-packages (from requests>=2.20.0->neptune) (3.4.0)\n",
            "Requirement already satisfied: idna<4,>=2.5 in /usr/local/lib/python3.10/dist-packages (from requests>=2.20.0->neptune) (3.10)\n",
            "Requirement already satisfied: certifi>=2017.4.17 in /usr/local/lib/python3.10/dist-packages (from requests>=2.20.0->neptune) (2024.8.30)\n",
            "Requirement already satisfied: jsonschema in /usr/local/lib/python3.10/dist-packages (from swagger-spec-validator>=2.7.4->neptune) (4.23.0)\n",
            "Requirement already satisfied: importlib-resources>=1.3 in /usr/local/lib/python3.10/dist-packages (from swagger-spec-validator>=2.7.4->neptune) (6.4.5)\n",
            "Requirement already satisfied: numpy>=1.22.4 in /usr/local/lib/python3.10/dist-packages (from pandas->neptune) (1.26.4)\n",
            "Requirement already satisfied: pytz>=2020.1 in /usr/local/lib/python3.10/dist-packages (from pandas->neptune) (2024.2)\n",
            "Requirement already satisfied: tzdata>=2022.7 in /usr/local/lib/python3.10/dist-packages (from pandas->neptune) (2024.2)\n",
            "Collecting jsonref (from bravado-core>=5.16.1->bravado<12.0.0,>=11.0.0->neptune)\n",
            "  Downloading jsonref-1.1.0-py3-none-any.whl.metadata (2.7 kB)\n",
            "Requirement already satisfied: smmap<6,>=3.0.1 in /usr/local/lib/python3.10/dist-packages (from gitdb<5,>=4.0.1->GitPython>=2.0.8->neptune) (5.0.1)\n",
            "Requirement already satisfied: attrs>=22.2.0 in /usr/local/lib/python3.10/dist-packages (from jsonschema->swagger-spec-validator>=2.7.4->neptune) (24.2.0)\n",
            "Requirement already satisfied: jsonschema-specifications>=2023.03.6 in /usr/local/lib/python3.10/dist-packages (from jsonschema->swagger-spec-validator>=2.7.4->neptune) (2024.10.1)\n",
            "Requirement already satisfied: referencing>=0.28.4 in /usr/local/lib/python3.10/dist-packages (from jsonschema->swagger-spec-validator>=2.7.4->neptune) (0.35.1)\n",
            "Requirement already satisfied: rpds-py>=0.7.1 in /usr/local/lib/python3.10/dist-packages (from jsonschema->swagger-spec-validator>=2.7.4->neptune) (0.20.0)\n",
            "Collecting fqdn (from jsonschema[format-nongpl]>=2.5.1->bravado-core>=5.16.1->bravado<12.0.0,>=11.0.0->neptune)\n",
            "  Downloading fqdn-1.5.1-py3-none-any.whl.metadata (1.4 kB)\n",
            "Collecting isoduration (from jsonschema[format-nongpl]>=2.5.1->bravado-core>=5.16.1->bravado<12.0.0,>=11.0.0->neptune)\n",
            "  Downloading isoduration-20.11.0-py3-none-any.whl.metadata (5.7 kB)\n",
            "Requirement already satisfied: jsonpointer>1.13 in /usr/local/lib/python3.10/dist-packages (from jsonschema[format-nongpl]>=2.5.1->bravado-core>=5.16.1->bravado<12.0.0,>=11.0.0->neptune) (3.0.0)\n",
            "Collecting rfc3339-validator (from jsonschema[format-nongpl]>=2.5.1->bravado-core>=5.16.1->bravado<12.0.0,>=11.0.0->neptune)\n",
            "  Downloading rfc3339_validator-0.1.4-py2.py3-none-any.whl.metadata (1.5 kB)\n",
            "Collecting rfc3986-validator>0.1.0 (from jsonschema[format-nongpl]>=2.5.1->bravado-core>=5.16.1->bravado<12.0.0,>=11.0.0->neptune)\n",
            "  Downloading rfc3986_validator-0.1.1-py2.py3-none-any.whl.metadata (1.7 kB)\n",
            "Collecting uri-template (from jsonschema[format-nongpl]>=2.5.1->bravado-core>=5.16.1->bravado<12.0.0,>=11.0.0->neptune)\n",
            "  Downloading uri_template-1.3.0-py3-none-any.whl.metadata (8.8 kB)\n",
            "Requirement already satisfied: webcolors>=24.6.0 in /usr/local/lib/python3.10/dist-packages (from jsonschema[format-nongpl]>=2.5.1->bravado-core>=5.16.1->bravado<12.0.0,>=11.0.0->neptune) (24.8.0)\n",
            "Collecting arrow>=0.15.0 (from isoduration->jsonschema[format-nongpl]>=2.5.1->bravado-core>=5.16.1->bravado<12.0.0,>=11.0.0->neptune)\n",
            "  Downloading arrow-1.3.0-py3-none-any.whl.metadata (7.5 kB)\n",
            "Collecting types-python-dateutil>=2.8.10 (from arrow>=0.15.0->isoduration->jsonschema[format-nongpl]>=2.5.1->bravado-core>=5.16.1->bravado<12.0.0,>=11.0.0->neptune)\n",
            "  Downloading types_python_dateutil-2.9.0.20241003-py3-none-any.whl.metadata (1.9 kB)\n",
            "Downloading neptune-1.13.0-py3-none-any.whl (502 kB)\n",
            "\u001b[2K   \u001b[90m━━━━━━━━━━━━━━━━━━━━━━━━━━━━━━━━━━━━━━━━\u001b[0m \u001b[32m502.6/502.6 kB\u001b[0m \u001b[31m11.9 MB/s\u001b[0m eta \u001b[36m0:00:00\u001b[0m\n",
            "\u001b[?25hDownloading boto3-1.35.52-py3-none-any.whl (139 kB)\n",
            "\u001b[2K   \u001b[90m━━━━━━━━━━━━━━━━━━━━━━━━━━━━━━━━━━━━━━━━\u001b[0m \u001b[32m139.2/139.2 kB\u001b[0m \u001b[31m8.7 MB/s\u001b[0m eta \u001b[36m0:00:00\u001b[0m\n",
            "\u001b[?25hDownloading bravado-11.0.3-py2.py3-none-any.whl (38 kB)\n",
            "Downloading swagger_spec_validator-3.0.4-py2.py3-none-any.whl (28 kB)\n",
            "Downloading botocore-1.35.52-py3-none-any.whl (12.7 MB)\n",
            "\u001b[2K   \u001b[90m━━━━━━━━━━━━━━━━━━━━━━━━━━━━━━━━━━━━━━━━\u001b[0m \u001b[32m12.7/12.7 MB\u001b[0m \u001b[31m80.0 MB/s\u001b[0m eta \u001b[36m0:00:00\u001b[0m\n",
            "\u001b[?25hDownloading jmespath-1.0.1-py3-none-any.whl (20 kB)\n",
            "Downloading s3transfer-0.10.3-py3-none-any.whl (82 kB)\n",
            "\u001b[2K   \u001b[90m━━━━━━━━━━━━━━━━━━━━━━━━━━━━━━━━━━━━━━━━\u001b[0m \u001b[32m82.6/82.6 kB\u001b[0m \u001b[31m5.5 MB/s\u001b[0m eta \u001b[36m0:00:00\u001b[0m\n",
            "\u001b[?25hDownloading monotonic-1.6-py2.py3-none-any.whl (8.2 kB)\n",
            "Downloading simplejson-3.19.3-cp310-cp310-manylinux_2_5_x86_64.manylinux1_x86_64.manylinux_2_17_x86_64.manylinux2014_x86_64.whl (137 kB)\n",
            "\u001b[2K   \u001b[90m━━━━━━━━━━━━━━━━━━━━━━━━━━━━━━━━━━━━━━━━\u001b[0m \u001b[32m137.9/137.9 kB\u001b[0m \u001b[31m9.1 MB/s\u001b[0m eta \u001b[36m0:00:00\u001b[0m\n",
            "\u001b[?25hDownloading jsonref-1.1.0-py3-none-any.whl (9.4 kB)\n",
            "Downloading rfc3986_validator-0.1.1-py2.py3-none-any.whl (4.2 kB)\n",
            "Downloading fqdn-1.5.1-py3-none-any.whl (9.1 kB)\n",
            "Downloading isoduration-20.11.0-py3-none-any.whl (11 kB)\n",
            "Downloading rfc3339_validator-0.1.4-py2.py3-none-any.whl (3.5 kB)\n",
            "Downloading uri_template-1.3.0-py3-none-any.whl (11 kB)\n",
            "Downloading arrow-1.3.0-py3-none-any.whl (66 kB)\n",
            "\u001b[2K   \u001b[90m━━━━━━━━━━━━━━━━━━━━━━━━━━━━━━━━━━━━━━━━\u001b[0m \u001b[32m66.4/66.4 kB\u001b[0m \u001b[31m4.4 MB/s\u001b[0m eta \u001b[36m0:00:00\u001b[0m\n",
            "\u001b[?25hDownloading types_python_dateutil-2.9.0.20241003-py3-none-any.whl (9.7 kB)\n",
            "Building wheels for collected packages: bravado-core\n",
            "  Building wheel for bravado-core (setup.py) ... \u001b[?25l\u001b[?25hdone\n",
            "  Created wheel for bravado-core: filename=bravado_core-6.1.1-py2.py3-none-any.whl size=67675 sha256=21a60eb56efadd1c18abdf9cd95967de8e5eeb398eb1c7bccf3990a01accc2a8\n",
            "  Stored in directory: /root/.cache/pip/wheels/42/35/4a/44ec4c358db21a5d63ed4e40f0f0012a438106f220bce4ccba\n",
            "Successfully built bravado-core\n",
            "Installing collected packages: monotonic, uri-template, types-python-dateutil, simplejson, rfc3986-validator, rfc3339-validator, jsonref, jmespath, fqdn, botocore, arrow, s3transfer, isoduration, swagger-spec-validator, boto3, bravado-core, bravado, neptune\n",
            "Successfully installed arrow-1.3.0 boto3-1.35.52 botocore-1.35.52 bravado-11.0.3 bravado-core-6.1.1 fqdn-1.5.1 isoduration-20.11.0 jmespath-1.0.1 jsonref-1.1.0 monotonic-1.6 neptune-1.13.0 rfc3339-validator-0.1.4 rfc3986-validator-0.1.1 s3transfer-0.10.3 simplejson-3.19.3 swagger-spec-validator-3.0.4 types-python-dateutil-2.9.0.20241003 uri-template-1.3.0\n"
          ]
        }
      ],
      "source": [
        "!pip install neptune"
      ]
    },
    {
      "cell_type": "code",
      "source": [
        "import torch\n",
        "import torch.nn as nn\n",
        "import torch.nn.functional as F\n",
        "import torchvision\n",
        "import torchvision.transforms as transforms\n",
        "import matplotlib.pyplot as plt\n",
        "import numpy as np\n",
        "import torch.optim as optim\n",
        "from math import floor\n",
        "import neptune\n",
        "import time\n",
        "from tqdm import tqdm"
      ],
      "metadata": {
        "id": "wRP4DlvO7oxX"
      },
      "execution_count": null,
      "outputs": []
    },
    {
      "cell_type": "code",
      "source": [
        "#Save neptune File\n",
        "\n",
        "run = neptune.init_run(\n",
        "    project=\"rahulhirur/DL-Lab2-CNN\",\n",
        "    api_token=\"eyJhcGlfYWRkcmVzcyI6Imh0dHBzOi8vYXBwLm5lcHR1bmUuYWkiLCJhcGlfdXJsIjoiaHR0cHM6Ly9hcHAubmVwdHVuZS5haSIsImFwaV9rZXkiOiIxMjkzM2M3My02ZWQ3LTQ4MjUtYTc2Zi03ODg3OWI4NDU3MGEifQ==\",\n",
        ")\n"
      ],
      "metadata": {
        "colab": {
          "base_uri": "https://localhost:8080/"
        },
        "id": "oLtzgtjnrZJo",
        "outputId": "5620a1ab-63f1-4167-9488-cf81ee76c5b5"
      },
      "execution_count": null,
      "outputs": [
        {
          "output_type": "stream",
          "name": "stderr",
          "text": [
            "[neptune] [warning] NeptuneWarning: By default, these monitoring options are disabled in interactive sessions: 'capture_stdout', 'capture_stderr', 'capture_traceback', 'capture_hardware_metrics'. You can set them to 'True' when initializing the run and the monitoring will continue until you call run.stop() or the kernel stops. NOTE: To track the source files, pass their paths to the 'source_code' argument. For help, see: https://docs.neptune.ai/logging/source_code/\n"
          ]
        },
        {
          "output_type": "stream",
          "name": "stdout",
          "text": [
            "[neptune] [info   ] Neptune initialized. Open in the app: https://app.neptune.ai/rahulhirur/DL-Lab2-CNN/e/DLLAB-1\n"
          ]
        }
      ]
    },
    {
      "cell_type": "code",
      "source": [
        "#parameter setup\n",
        "seed = 42\n",
        "batch_size = 32\n",
        "learning_rate = 0.01\n",
        "n_epochs = 4\n",
        "dropOutRate = 0.25\n",
        "kernel_size = 3\n",
        "padding = 1\n",
        "stride = 1\n",
        "optimizer= \"SGD\"\n",
        "loss_fn = \"CrossEntropyLoss\"\n",
        "\n",
        "params = {\n",
        "    \"seed\": seed,\n",
        "    \"batch_size\": batch_size,\n",
        "    \"learning_rate\": learning_rate,\n",
        "    \"n_epochs\": n_epochs,\n",
        "    \"dropOutRate\": dropOutRate,\n",
        "    \"kernel_size\": kernel_size,\n",
        "    \"padding\": padding,\n",
        "    \"stride\": stride,\n",
        "    \"optimizer\": optimizer,\n",
        "    \"loss_fn\": loss_fn\n",
        "}\n",
        "\n",
        "run[\"parameters\"] = params"
      ],
      "metadata": {
        "id": "To_TrWMBruCc"
      },
      "execution_count": null,
      "outputs": []
    },
    {
      "cell_type": "markdown",
      "source": [
        "**Task 1**"
      ],
      "metadata": {
        "id": "veKlOuhX7j5y"
      }
    },
    {
      "cell_type": "code",
      "source": [
        "seed = 42\n",
        "torch.manual_seed(seed)\n",
        "torch.cuda.manual_seed(seed)\n",
        "torch.backends.cudnn.deterministic = True\n",
        "torch.backends.cudnn.benchmark = False"
      ],
      "metadata": {
        "id": "iAlug4QY8LQN"
      },
      "execution_count": null,
      "outputs": []
    },
    {
      "cell_type": "code",
      "source": [
        "print(torch.randint(1, 10, (1, 1)))"
      ],
      "metadata": {
        "colab": {
          "base_uri": "https://localhost:8080/"
        },
        "id": "3wuGEb5X8PIu",
        "outputId": "4e72ec9c-39b3-4ffd-c1ee-712bbdadce29"
      },
      "execution_count": null,
      "outputs": [
        {
          "output_type": "stream",
          "name": "stdout",
          "text": [
            "tensor([[7]])\n"
          ]
        }
      ]
    },
    {
      "cell_type": "markdown",
      "source": [
        "**Task 2**"
      ],
      "metadata": {
        "id": "jBfd7EOD8VQ_"
      }
    },
    {
      "cell_type": "code",
      "source": [
        "# Load CIFAR-10 dataset\n",
        "train_set_raw = torchvision.datasets.CIFAR10(root='./data', train=True, download=True, transform=transforms.ToTensor())\n",
        "test_set_raw = torchvision.datasets.CIFAR10(root='./data', train=False, download=True, transform=transforms.ToTensor())\n",
        "validation_set_raw, test_set_raw = torch.utils.data.random_split(test_set_raw, [0.8, 0.2])\n"
      ],
      "metadata": {
        "colab": {
          "base_uri": "https://localhost:8080/"
        },
        "id": "V94Y2H0u8RrQ",
        "outputId": "dcbb59b7-61bb-4cc4-a8ce-61cf48326e73"
      },
      "execution_count": null,
      "outputs": [
        {
          "output_type": "stream",
          "name": "stdout",
          "text": [
            "Downloading https://www.cs.toronto.edu/~kriz/cifar-10-python.tar.gz to ./data/cifar-10-python.tar.gz\n"
          ]
        },
        {
          "output_type": "stream",
          "name": "stderr",
          "text": [
            "100%|██████████| 170M/170M [00:02<00:00, 65.4MB/s]\n"
          ]
        },
        {
          "output_type": "stream",
          "name": "stdout",
          "text": [
            "Extracting ./data/cifar-10-python.tar.gz to ./data\n",
            "Files already downloaded and verified\n"
          ]
        }
      ]
    },
    {
      "cell_type": "code",
      "source": [
        "# Define CIFAR-10 classes\n",
        "classes = train_set_raw.classes\n",
        "print(f\"The number of classes in the dataset - {len(classes)}\")\n",
        "\n",
        "print(f\"The number of images in the training dataset - {len(train_set_raw)}\")\n",
        "print(f\"The number of images in the test dataset - {len(test_set_raw)}\")\n",
        "print(f\"The number of images in the validation dataset - {len(validation_set_raw)}\")"
      ],
      "metadata": {
        "colab": {
          "base_uri": "https://localhost:8080/"
        },
        "id": "ptPCPbRwBfZS",
        "outputId": "2673043f-b4be-465b-ef4f-a6b7260ee5af"
      },
      "execution_count": null,
      "outputs": [
        {
          "output_type": "stream",
          "name": "stdout",
          "text": [
            "The number of classes in the dataset - 10\n",
            "The number of images in the training dataset - 50000\n",
            "The number of images in the test dataset - 2000\n",
            "The number of images in the validation dataset - 8000\n"
          ]
        }
      ]
    },
    {
      "source": [
        "def show_images_per_class(dataset, classes):\n",
        "    class_examples = {class_name: None for class_name in classes}\n",
        "\n",
        "    for image, label in dataset:\n",
        "        class_name = classes[label]\n",
        "        if class_examples[class_name] is None:\n",
        "            class_examples[class_name] = image\n",
        "        if all(v is not None for v in class_examples.values()):  # Break when all classes are filled\n",
        "            break\n",
        "\n",
        "    # Plot images\n",
        "    fig, axes = plt.subplots(2, 5, figsize=(12, 6))\n",
        "    fig.suptitle('One Image per Class')\n",
        "    for idx, (class_name, img) in enumerate(class_examples.items()):\n",
        "        ax = axes[idx // 5, idx % 5]\n",
        "        img = np.transpose(img, (1, 2, 0))\n",
        "\n",
        "        ax.imshow(img)\n",
        "        ax.set_title(class_name)\n",
        "        ax.axis('off')\n",
        "    plt.show()\n",
        "\n",
        "# Call the function with the transformed dataset\n",
        "show_images_per_class(validation_set_raw, classes)"
      ],
      "cell_type": "code",
      "metadata": {
        "colab": {
          "base_uri": "https://localhost:8080/",
          "height": 534
        },
        "id": "QkwgseToAxi8",
        "outputId": "6dc9a950-9f6c-4d0b-aa15-41feaf038b51"
      },
      "execution_count": null,
      "outputs": [
        {
          "output_type": "display_data",
          "data": {
            "text/plain": [
              "<Figure size 1200x600 with 10 Axes>"
            ],
            "image/png": "[encoded data removed]"
          },
          "metadata": {}
        }
      ]
    },
    {
      "cell_type": "code",
      "source": [
        "def plot_combined_histogram(train_dataset, test_dataset, val_dataset, classes):\n",
        "    train_class_counts = {}\n",
        "    test_class_counts = {}\n",
        "    val_class_counts = {}\n",
        "\n",
        "    for label in range(len(classes)):\n",
        "      train_class_counts[label] = 0\n",
        "      test_class_counts[label] = 0\n",
        "      val_class_counts[label] = 0\n",
        "\n",
        "    for _, label in train_dataset:\n",
        "      train_class_counts[label] = train_class_counts[label] + 1\n",
        "\n",
        "    for _, label in test_dataset:\n",
        "        test_class_counts[label] = test_class_counts[label] + 1\n",
        "\n",
        "    for _, label in val_dataset:\n",
        "        val_class_counts[label] = val_class_counts[label] + 1\n",
        "\n",
        "    x = np.arange(len(classes))\n",
        "\n",
        "    width = 0.35\n",
        "\n",
        "    fig, ax = plt.subplots(figsize=(12, 6))\n",
        "\n",
        "    rects1 = ax.bar(x - width/2, [train_class_counts.get(i,0) for i in range(len(classes))], width, label='Train',color=\"blue\")\n",
        "    ax.axhline(y=5000, color='blue', linestyle='--',linewidth=1,alpha=0.5)\n",
        "\n",
        "    rects2 = ax.bar(x + width/2, [test_class_counts.get(i,0) for i in range(len(classes))], width, label='Test',color=\"red\")\n",
        "    ax.axhline(y=600, color='red', linestyle='--',linewidth=1,alpha=0.5)\n",
        "\n",
        "    rects3 = ax.bar(x, [val_class_counts.get(i,0) for i in range(len(classes))], width, label='Validation',color=\"green\")\n",
        "    ax.axhline(y=400, color='green', linestyle='--',linewidth=1,alpha=0.5)\n",
        "\n",
        "    ax.set_ylabel('Number of Images')\n",
        "    ax.set_title('Distribution of Images in Train and Test Sets')\n",
        "    ax.set_xticks(x)\n",
        "    ax.set_xticklabels(classes)\n",
        "    ax.legend()\n",
        "    plt.show()\n",
        "\n",
        "plot_combined_histogram(train_set_raw, test_set_raw, validation_set_raw, classes)"
      ],
      "metadata": {
        "colab": {
          "base_uri": "https://localhost:8080/",
          "height": 545
        },
        "id": "8uYV4kaHAA8U",
        "outputId": "797d48ed-1968-406e-c100-fbe808f8675f"
      },
      "execution_count": null,
      "outputs": [
        {
          "output_type": "display_data",
          "data": {
            "text/plain": [
              "<Figure size 1200x600 with 1 Axes>"
            ],
            "image/png": "[encoded data removed]"
          },
          "metadata": {}
        }
      ]
    },
    {
      "cell_type": "code",
      "source": [
        "def get_mean_std(dataset):\n",
        "  # get the mean and std of the whole dataset\n",
        "  images, _ = next(iter(dataset))\n",
        "  print(images.mean(),  images.std())\n",
        "  return images.mean().numpy(),  images.std().numpy()\n"
      ],
      "metadata": {
        "id": "11KoUwbeTMl4"
      },
      "execution_count": null,
      "outputs": []
    },
    {
      "cell_type": "code",
      "source": [
        "meanVal, stdVal= get_mean_std(train_set_raw)\n"
      ],
      "metadata": {
        "colab": {
          "base_uri": "https://localhost:8080/"
        },
        "id": "riy1tLy0HsKA",
        "outputId": "f47325a0-4750-407b-f21a-c52c0a3b66cb"
      },
      "execution_count": null,
      "outputs": [
        {
          "output_type": "stream",
          "name": "stdout",
          "text": [
            "tensor(0.4057) tensor(0.2039)\n"
          ]
        }
      ]
    },
    {
      "cell_type": "code",
      "source": [
        "transforms = transforms.Compose([\n",
        "    transforms.ToTensor(),\n",
        "    transforms.Normalize(mean=meanVal, std=stdVal)\n",
        "    ])\n",
        "\n",
        "# Create a function to apply transformations on-demand\n",
        "def apply_transform(dataset, transform):\n",
        "    dataset.transform = transform\n",
        "    return dataset\n",
        "\n",
        "# Apply transformations to the dataset needed\n",
        "# train_set_transformed = apply_transform(train_set_raw, transform)\n",
        "# test_set_transformed = apply_transform(test_set_raw, transform)\n",
        "# validation_set_transformed = apply_transform(validation_set_raw, transform)\n",
        "\n",
        "train_set_transformed = torchvision.datasets.CIFAR10(root='./data', train=True, download=True, transform=transforms)\n",
        "test_set_transformed = torchvision.datasets.CIFAR10(root='./data', train=False, download=True, transform=transforms)\n",
        "\n",
        "validation_set_transformed, test_set_transformed = torch.utils.data.random_split(test_set_transformed, [0.8, 0.2])"
      ],
      "metadata": {
        "id": "ItQ_HgL_98Yu",
        "colab": {
          "base_uri": "https://localhost:8080/"
        },
        "outputId": "b66fce52-d494-406b-bf97-3395594b85a9"
      },
      "execution_count": null,
      "outputs": [
        {
          "output_type": "stream",
          "name": "stdout",
          "text": [
            "Files already downloaded and verified\n",
            "Files already downloaded and verified\n"
          ]
        }
      ]
    },
    {
      "cell_type": "code",
      "source": [
        "get_mean_std(train_set_transformed)"
      ],
      "metadata": {
        "id": "mttnLdHF-AWp",
        "colab": {
          "base_uri": "https://localhost:8080/"
        },
        "outputId": "a3391ea0-2e6e-451d-81c4-48848ab5a533"
      },
      "execution_count": null,
      "outputs": [
        {
          "output_type": "stream",
          "name": "stdout",
          "text": [
            "tensor(4.3462e-09) tensor(1.)\n"
          ]
        },
        {
          "output_type": "execute_result",
          "data": {
            "text/plain": [
              "(array(4.346172e-09, dtype=float32), array(1., dtype=float32))"
            ]
          },
          "metadata": {},
          "execution_count": 13
        }
      ]
    },
    {
      "cell_type": "code",
      "source": [
        "# Create loaders\n",
        "\n",
        "train_loader = torch.utils.data.DataLoader(train_set_transformed, batch_size=batch_size, shuffle=True, num_workers=2)\n",
        "test_loader = torch.utils.data.DataLoader(test_set_transformed, batch_size=len(test_set_transformed), shuffle=True, num_workers=2)\n",
        "validation_loader = torch.utils.data.DataLoader(validation_set_transformed, batch_size=len(validation_set_transformed), shuffle=True, num_workers=2)"
      ],
      "metadata": {
        "id": "ZEP0YYko_YEJ"
      },
      "execution_count": null,
      "outputs": []
    },
    {
      "cell_type": "markdown",
      "source": [
        "Task3"
      ],
      "metadata": {
        "id": "-2pqk27rXbSK"
      }
    },
    {
      "cell_type": "code",
      "source": [
        "# prompt:  Assume you have downloaded the dataset using the variable\n",
        "# dataset train. Are the entries in the correct type for the DL framework in PyTorch? How can you arrive at a suitable format for your training pipeline? Answer this question by also providing clarification about\n",
        "# (i) The type of each element of the dataset\n",
        "# (ii) How we can convert it to a suitable type. Hint: have a look at the\n",
        "# slides\n",
        "# (iii) The dimension of the image as a torch.Tensor object\n",
        "# (iv) The meaning of each dimension of the images\n",
        "\n",
        "# (i) Type of each element\n",
        "# The dataset consists of PIL images and integer labels.  PIL images are not directly usable\n",
        "# as tensors in PyTorch.  The labels are integers representing the class of the image.\n",
        "\n",
        "# (ii) Conversion to a suitable type\n",
        "# The provided code already converts the dataset to the correct format using torchvision.transforms.Compose:\n",
        "\n",
        "# transforms.ToTensor(): Converts a PIL Image or numpy.ndarray to a float tensor\n",
        "# The pixel values are converted from [0, 255] to [0.0, 1.0].\n",
        "# transforms.Normalize(): Normalizes the tensor image with mean and standard deviation.\n",
        "# This is crucial for good performance in many neural networks.\n",
        "\n",
        "# The apply_transform function applies these transformations.  The key is the use of transforms.ToTensor().\n",
        "\n",
        "# (iii) Dimension of the image as a torch.Tensor\n",
        "# After applying the transformation, each image in the dataset will be a torch.Tensor with dimensions (3, 32, 32).\n",
        "\n",
        "# (iv) Meaning of each dimension\n",
        "# - Dimension 0 (3): Represents the color channels (Red, Green, Blue).\n",
        "# - Dimension 1 (32): Represents the height of the image in pixels.\n",
        "# - Dimension 2 (32): Represents the width of the image in pixels.\n",
        "\n",
        "\n",
        "# Example to demonstrate the dimensions\n",
        "\n",
        "dataiter = iter(train_loader)\n",
        "images, labels = next(dataiter)\n",
        "\n",
        "print(f\"Image shape: {images.shape}\") # Output: torch.Size([4, 3, 32, 32])  (batch_size, channels, height, width)\n",
        "print(f\"Image shape in the batch: {images[0].shape}\") # Output: torch.Size([3, 32, 32])\n",
        "print(f\"Label shape: {labels.shape}\") # Output: torch.Size([4])\n",
        "print(type(images))"
      ],
      "metadata": {
        "id": "R6GyBudjNGhy",
        "colab": {
          "base_uri": "https://localhost:8080/"
        },
        "outputId": "e5bec6bf-309b-49f8-c01f-2123b9997ffb"
      },
      "execution_count": null,
      "outputs": [
        {
          "output_type": "stream",
          "name": "stdout",
          "text": [
            "Image shape: torch.Size([32, 3, 32, 32])\n",
            "Image shape in the batch: torch.Size([3, 32, 32])\n",
            "Label shape: torch.Size([32])\n",
            "<class 'torch.Tensor'>\n"
          ]
        }
      ]
    },
    {
      "cell_type": "markdown",
      "source": [
        "**Model**"
      ],
      "metadata": {
        "id": "jP00PLPtexsK"
      }
    },
    {
      "cell_type": "code",
      "source": [
        "def out_dimensions(conv_layer, h_in, w_in):\n",
        "    '''\n",
        "    This function computes the output dimension of each convolutional layers in the most general way.\n",
        "    '''\n",
        "    h_out = floor((h_in + 2 * conv_layer.padding[0] - conv_layer.dilation[0] * (conv_layer.kernel_size[0] - 1) - 1) /\n",
        "                  conv_layer.stride[0] + 1)\n",
        "    w_out = floor((w_in + 2 * conv_layer.padding[1] - conv_layer.dilation[1] * (conv_layer.kernel_size[1] - 1) - 1) /\n",
        "                  conv_layer.stride[1] + 1)\n",
        "\n",
        "    return h_out, w_out\n",
        "\n",
        "# You can start by modifyng what we have done in class, or define your model from scratch\n",
        "\n",
        "class CNN1(nn.Module):\n",
        "    def __init__(self):\n",
        "        super(CNN1, self).__init__()\n",
        "\n",
        "        self.conv1 = nn.Conv2d(in_channels=3, out_channels=16, kernel_size=(3, 3), padding = 1, stride=1)\n",
        "\n",
        "        self.conv2 = nn.Conv2d(in_channels=16, out_channels=32, kernel_size=(3, 3), padding = 1, stride=1)\n",
        "\n",
        "        self.pool1 = nn.MaxPool2d(2, 2)\n",
        "\n",
        "        self.conv3 = nn.Conv2d(in_channels=32, out_channels=64, kernel_size=(3, 3), padding = 1, stride=1)\n",
        "\n",
        "        self.conv4 = nn.Conv2d(in_channels=64, out_channels=128, kernel_size=(3, 3), padding = 1, stride=1)\n",
        "\n",
        "        self.pool2 = nn.MaxPool2d(2, 2)\n",
        "\n",
        "        self.flatten = nn.Flatten()\n",
        "\n",
        "        self.fc1 = nn.Linear(128 * 8 * 8, 128)\n",
        "\n",
        "        self.fc2 = nn.Linear(128, 64)\n",
        "\n",
        "        self.fc3 = nn.Linear(64, 10)\n",
        "\n",
        "\n",
        "    def forward(self, x):\n",
        "\n",
        "        x = self.conv1(x)\n",
        "\n",
        "        x = self.conv2(x)\n",
        "\n",
        "        x = F.relu(x)\n",
        "        x = self.pool1(x)\n",
        "\n",
        "        x = self.conv3(x)\n",
        "\n",
        "        x = self.conv4(x)\n",
        "\n",
        "        x = F.relu(x)\n",
        "\n",
        "        x = self.pool1(x)\n",
        "\n",
        "        x = self.flatten(x)\n",
        "\n",
        "        x = F.relu(self.fc1(x))\n",
        "        x = F.relu(self.fc2(x))\n",
        "        x = self.fc3(x)\n",
        "\n",
        "        return x\n",
        "\n",
        "\n"
      ],
      "metadata": {
        "id": "BN1qhOwQXduq"
      },
      "execution_count": null,
      "outputs": []
    },
    {
      "cell_type": "code",
      "source": [
        "class CNN2(nn.Module):\n",
        "    def __init__(self, kernel_size, padding, stride, dropoutRate):\n",
        "        super(CNN2, self).__init__()\n",
        "\n",
        "        self.conv1 = nn.Conv2d(in_channels=3, out_channels=16, kernel_size=kernel_size, padding = padding, stride=stride)\n",
        "\n",
        "        self.conv2 = nn.Conv2d(in_channels=16, out_channels=32, kernel_size=kernel_size, padding = padding, stride=stride)\n",
        "\n",
        "        self.pool1 = nn.MaxPool2d(2, 2)\n",
        "\n",
        "        self.conv3 = nn.Conv2d(in_channels=32, out_channels=64, kernel_size=kernel_size, padding = padding, stride=stride)\n",
        "\n",
        "        self.conv4 = nn.Conv2d(in_channels=64, out_channels=128, kernel_size=kernel_size, padding = padding, stride=stride)\n",
        "\n",
        "        self.pool2 = nn.MaxPool2d(2, 2)\n",
        "\n",
        "        #add drop out\n",
        "        self.dropout = nn.Dropout(dropoutRate)\n",
        "\n",
        "        self.flatten = nn.Flatten()\n",
        "\n",
        "        self.fc1 = nn.Linear(128 * 8 * 8, 128)\n",
        "\n",
        "        self.fc2 = nn.Linear(128, 64)\n",
        "\n",
        "        self.fc3 = nn.Linear(64, 10)\n",
        "\n",
        "\n",
        "    def forward(self, x):\n",
        "\n",
        "        x = self.conv1(x)\n",
        "\n",
        "        x = self.conv2(x)\n",
        "\n",
        "        x = F.relu(x)\n",
        "        x= self.dropout(x)\n",
        "\n",
        "        x = self.pool1(x)\n",
        "\n",
        "        x = self.conv3(x)\n",
        "\n",
        "        x = self.conv4(x)\n",
        "\n",
        "        x = F.relu(x)\n",
        "        x= self.dropout(x)\n",
        "\n",
        "        x = self.pool1(x)\n",
        "\n",
        "        x = self.flatten(x)\n",
        "\n",
        "        x = F.relu(self.fc1(x))\n",
        "        x = F.relu(self.fc2(x))\n",
        "        x = self.fc3(x)\n",
        "\n",
        "        return x\n"
      ],
      "metadata": {
        "id": "Rh_ddlKAwWoz"
      },
      "execution_count": null,
      "outputs": []
    },
    {
      "cell_type": "code",
      "source": [
        "\n",
        "model = CNN2(kernel_size, padding, stride, dropOutRate)\n",
        "\n",
        "\n",
        "optimizer = optim.SGD(model.parameters(), lr=learning_rate)\n",
        "#optimizer = optim.Adam(model.parameters(), lr=learning_rate)\n",
        "loss_fn = nn.CrossEntropyLoss()\n",
        "\n",
        "\n",
        "\n",
        "train_loss_list = []\n",
        "validation_loss_list = []\n",
        "for epoch in range(n_epochs):\n",
        "    loss_train = 0\n",
        "    acc_train = 0\n",
        "    epoch_start_time = time.time()\n",
        "    for data, target in tqdm(train_loader, desc=f\"Epoch {epoch+1}/{n_epochs} Training\", unit=\"batch\"):\n",
        "        # Set the model in training mode\n",
        "        model.train()\n",
        "        # Set the gradient to 0\n",
        "        optimizer.zero_grad()\n",
        "        # Make a prediction\n",
        "        output = model(data)\n",
        "        # Compute the loss function\n",
        "        loss = loss_fn(output, target)\n",
        "        loss_train += loss.item()\n",
        "        # calculate training accuracy\n",
        "        _, predicted = torch.max(output.data, 1)\n",
        "        total = target.size(0)\n",
        "        correct = (predicted == target).sum().item()\n",
        "        acc_train += 100 * correct / total\n",
        "\n",
        "        # Backpropagation\n",
        "        loss.backward()\n",
        "        # Update parameters\n",
        "        optimizer.step()\n",
        "    loss_train = loss_train / len(train_loader) # Consider this alternative method of tracking training loss.\n",
        "    acc_train = acc_train / len(train_loader)\n",
        "    train_loss_list.append(loss_train)\n",
        "    # Add loss to the neptune data\n",
        "    run[\"train/loss\"].append(loss_train)\n",
        "    run[\"train/accuracy\"].append(acc_train)\n",
        "\n",
        "    # Add the epoch number running\n",
        "    run[\"epoch/number\"].append(epoch + 1)\n",
        "\n",
        "\n",
        "    # At the end of every epoch, check the validation loss value\n",
        "    with torch.no_grad():\n",
        "        model.eval()\n",
        "        epoch_end_time = time.time()  # End time for the current epoch\n",
        "        epoch_time = epoch_end_time - epoch_start_time\n",
        "        for data, target in validation_loader:\n",
        "            # Make a prediction\n",
        "            output = model(data)\n",
        "            # Compute the loss function\n",
        "            validation_loss = loss_fn(output, target).item()\n",
        "\n",
        "            validation_loss_list.append(validation_loss)\n",
        "\n",
        "            # Add loss to the neptune data\n",
        "            run[\"validation/loss\"].append(validation_loss)\n",
        "\n",
        "            #calculate accuracy\n",
        "            _, predicted = torch.max(output.data, 1)\n",
        "            total = target.size(0)\n",
        "            correct = (predicted == target).sum().item()\n",
        "            accuracy = 100 * correct / total\n",
        "            # Add validation accuracy to neptune data\n",
        "            run[\"validation/accuracy\"].append(accuracy)\n",
        "\n",
        "            print(f\"Epoch {epoch + 1}: Train loss: {loss_train}, Validation loss {validation_loss}, Time: {epoch_time:.4f} seconds , Training Accuracy: {acc_train:.2f}%, Validation Accuracy: {accuracy:.2f}%\")\n",
        "\n",
        "            # Calculate epoch time\n",
        "            run[\"epoch/time\"].append(epoch_time)\n",
        "\n",
        "\n",
        "\n",
        "run.stop()\n",
        "print('Training Done')"
      ],
      "metadata": {
        "colab": {
          "base_uri": "https://localhost:8080/"
        },
        "id": "ZaIJgvnHBcKD",
        "outputId": "20ca5cb3-874e-4204-9acd-126e8c08e0a0"
      },
      "execution_count": null,
      "outputs": [
        {
          "output_type": "stream",
          "name": "stderr",
          "text": [
            "Epoch 1/4 Training: 100%|██████████| 1563/1563 [05:02<00:00,  5.16batch/s]\n"
          ]
        },
        {
          "output_type": "stream",
          "name": "stdout",
          "text": [
            "Epoch 1: Train loss: 1.7952193459561445, Validation loss 1.5270782709121704, Time: 302.7061 seconds, Accuracy: 49.42%\n"
          ]
        },
        {
          "output_type": "stream",
          "name": "stderr",
          "text": [
            "Epoch 2/4 Training: 100%|██████████| 1563/1563 [05:01<00:00,  5.18batch/s]\n"
          ]
        },
        {
          "output_type": "stream",
          "name": "stdout",
          "text": [
            "Epoch 2: Train loss: 1.3258925435334081, Validation loss 1.3372756242752075, Time: 301.7218 seconds, Accuracy: 51.96%\n"
          ]
        },
        {
          "output_type": "stream",
          "name": "stderr",
          "text": [
            "Epoch 3/4 Training: 100%|██████████| 1563/1563 [05:08<00:00,  5.06batch/s]\n"
          ]
        },
        {
          "output_type": "stream",
          "name": "stdout",
          "text": [
            "Epoch 3: Train loss: 1.1133205921926028, Validation loss 1.1280349493026733, Time: 308.6452 seconds, Accuracy: 62.73%\n"
          ]
        },
        {
          "output_type": "stream",
          "name": "stderr",
          "text": [
            "Epoch 4/4 Training: 100%|██████████| 1563/1563 [05:00<00:00,  5.21batch/s]\n"
          ]
        },
        {
          "output_type": "stream",
          "name": "stdout",
          "text": [
            "Epoch 4: Train loss: 0.9543164555300373, Validation loss 1.007944107055664, Time: 300.2794 seconds, Accuracy: 65.56%\n",
            "[neptune] [info   ] Shutting down background jobs, please wait a moment...\n",
            "[neptune] [info   ] Done!\n",
            "[neptune] [info   ] Waiting for the remaining 3 operations to synchronize with Neptune. Do not kill this process.\n",
            "[neptune] [info   ] All 3 operations synced, thanks for waiting!\n",
            "[neptune] [info   ] Explore the metadata in the Neptune app: https://app.neptune.ai/rahulhirur/DL-Lab2-CNN/e/DLLAB-1/metadata\n",
            "Training Done\n"
          ]
        }
      ]
    },
    {
      "cell_type": "code",
      "source": [
        "plt.figure()\n",
        "plt.plot(range(1,n_epochs+1), train_loss_list)\n",
        "plt.plot(range(1,n_epochs+1), validation_loss_list)\n",
        "plt.legend([\"Train loss\", \"Validation Loss\"])\n",
        "plt.xlabel(\"Epochs\")\n",
        "plt.ylabel(\"Loss value\")\n",
        "plt.show()"
      ],
      "metadata": {
        "colab": {
          "base_uri": "https://localhost:8080/",
          "height": 449
        },
        "id": "WGufCRWBh398",
        "outputId": "16fec5bf-afac-4e44-fe89-475a81b4e6ee"
      },
      "execution_count": null,
      "outputs": [
        {
          "output_type": "display_data",
          "data": {
            "text/plain": [
              "<Figure size 640x480 with 1 Axes>"
            ],
            "image/png": "[encoded data removed]"
          },
          "metadata": {}
        }
      ]
    },
    {
      "cell_type": "code",
      "source": [
        "with torch.no_grad():\n",
        "    n_correct = 0\n",
        "    n_samples = 0\n",
        "    for data, target in test_loader:\n",
        "        model.eval()\n",
        "        outputs = model(data)\n",
        "        _, predicted = torch.max(outputs.data, 1)\n",
        "        n_samples += target.size(0)\n",
        "        n_correct += (predicted == target).sum().item()\n",
        "\n",
        "    acc = 100.0 * n_correct / n_samples\n",
        "print(\"Accuracy on the test set:\", acc, \"%\")"
      ],
      "metadata": {
        "colab": {
          "base_uri": "https://localhost:8080/"
        },
        "id": "5dBvpe3QjEyU",
        "outputId": "7fd8ab16-cb48-4fcf-8bda-291baec565d5"
      },
      "execution_count": null,
      "outputs": [
        {
          "output_type": "stream",
          "name": "stdout",
          "text": [
            "Accuracy on the test set: 63.5 %\n"
          ]
        }
      ]
    }
  ]
}